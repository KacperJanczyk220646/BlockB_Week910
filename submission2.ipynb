{
 "cells": [
  {
   "cell_type": "code",
   "execution_count": 1,
   "metadata": {},
   "outputs": [],
   "source": [
    "# Loading necessary libraries\n",
    "from sklearn.ensemble import RandomForestClassifier\n",
    "from sklearn.model_selection import train_test_split, GridSearchCV\n",
    "from sklearn.metrics import accuracy_score, classification_report\n",
    "from sklearn.preprocessing import StandardScaler\n",
    "import pandas as pd"
   ]
  },
  {
   "cell_type": "code",
   "execution_count": 2,
   "metadata": {},
   "outputs": [],
   "source": [
    "# Load the data\n",
    "train_data = pd.read_csv('train.csv')\n",
    "test_data = pd.read_csv('test.csv')"
   ]
  },
  {
   "cell_type": "code",
   "execution_count": 3,
   "metadata": {},
   "outputs": [
    {
     "name": "stdout",
     "output_type": "stream",
     "text": [
      "   id  Gender        Age    Height      Weight family_history_with_overweight  \\\n",
      "0   0    Male  24.443011  1.699998   81.669950                            yes   \n",
      "1   1  Female  18.000000  1.560000   57.000000                            yes   \n",
      "2   2  Female  18.000000  1.711460   50.165754                            yes   \n",
      "3   3  Female  20.952737  1.710730  131.274851                            yes   \n",
      "4   4    Male  31.641081  1.914186   93.798055                            yes   \n",
      "\n",
      "  FAVC      FCVC       NCP        CAEC SMOKE      CH2O SCC       FAF  \\\n",
      "0  yes  2.000000  2.983297   Sometimes    no  2.763573  no  0.000000   \n",
      "1  yes  2.000000  3.000000  Frequently    no  2.000000  no  1.000000   \n",
      "2  yes  1.880534  1.411685   Sometimes    no  1.910378  no  0.866045   \n",
      "3  yes  3.000000  3.000000   Sometimes    no  1.674061  no  1.467863   \n",
      "4  yes  2.679664  1.971472   Sometimes    no  1.979848  no  1.967973   \n",
      "\n",
      "        TUE       CALC                 MTRANS           NObeyesdad  \n",
      "0  0.976473  Sometimes  Public_Transportation  Overweight_Level_II  \n",
      "1  1.000000         no             Automobile        Normal_Weight  \n",
      "2  1.673584         no  Public_Transportation  Insufficient_Weight  \n",
      "3  0.780199  Sometimes  Public_Transportation     Obesity_Type_III  \n",
      "4  0.931721  Sometimes  Public_Transportation  Overweight_Level_II  \n"
     ]
    }
   ],
   "source": [
    "print(train_data.head())"
   ]
  },
  {
   "cell_type": "code",
   "execution_count": 4,
   "metadata": {},
   "outputs": [
    {
     "name": "stdout",
     "output_type": "stream",
     "text": [
      "      id  Gender        Age    Height      Weight  \\\n",
      "0  20758    Male  26.899886  1.848294  120.644178   \n",
      "1  20759  Female  21.000000  1.600000   66.000000   \n",
      "2  20760  Female  26.000000  1.643355  111.600553   \n",
      "3  20761    Male  20.979254  1.553127  103.669116   \n",
      "4  20762  Female  26.000000  1.627396  104.835346   \n",
      "\n",
      "  family_history_with_overweight FAVC      FCVC       NCP       CAEC SMOKE  \\\n",
      "0                            yes  yes  2.938616  3.000000  Sometimes    no   \n",
      "1                            yes  yes  2.000000  1.000000  Sometimes    no   \n",
      "2                            yes  yes  3.000000  3.000000  Sometimes    no   \n",
      "3                            yes  yes  2.000000  2.977909  Sometimes    no   \n",
      "4                            yes  yes  3.000000  3.000000  Sometimes    no   \n",
      "\n",
      "       CH2O SCC       FAF       TUE       CALC                 MTRANS  \n",
      "0  2.825629  no  0.855400  0.000000  Sometimes  Public_Transportation  \n",
      "1  3.000000  no  1.000000  0.000000  Sometimes  Public_Transportation  \n",
      "2  2.621877  no  0.000000  0.250502  Sometimes  Public_Transportation  \n",
      "3  2.786417  no  0.094851  0.000000  Sometimes  Public_Transportation  \n",
      "4  2.653531  no  0.000000  0.741069  Sometimes  Public_Transportation  \n"
     ]
    }
   ],
   "source": [
    "print(test_data.head())"
   ]
  },
  {
   "cell_type": "code",
   "execution_count": 5,
   "metadata": {},
   "outputs": [],
   "source": [
    "# One-hot encoding for categorical variables\n",
    "categorical_columns = ['Gender', 'family_history_with_overweight', 'FAVC', 'CAEC', 'SMOKE', 'SCC', 'CALC', 'MTRANS']\n",
    "train_data_encoded = pd.get_dummies(train_data, columns=categorical_columns)\n",
    "test_data_encoded = pd.get_dummies(test_data, columns=categorical_columns)\n",
    "test_data_encoded = test_data_encoded.reindex(columns=[col for col in train_data_encoded.columns if col != 'NObeyesdad'], fill_value=0)"
   ]
  },
  {
   "cell_type": "code",
   "execution_count": 6,
   "metadata": {},
   "outputs": [],
   "source": [
    "# Feature Scaling\n",
    "scaler = StandardScaler()\n",
    "numeric_columns = ['Age', 'Height', 'Weight', 'FCVC', 'NCP', 'CH2O', 'FAF', 'TUE']\n",
    "train_data_encoded[numeric_columns] = scaler.fit_transform(train_data_encoded[numeric_columns])\n",
    "test_data_encoded[numeric_columns] = scaler.transform(test_data_encoded[numeric_columns])\n"
   ]
  },
  {
   "cell_type": "code",
   "execution_count": 7,
   "metadata": {},
   "outputs": [],
   "source": [
    "# Separating features and target variable in the train dataset\n",
    "X_train = train_data_encoded.drop('NObeyesdad', axis=1)\n",
    "y_train = train_data_encoded['NObeyesdad']"
   ]
  },
  {
   "cell_type": "code",
   "execution_count": 8,
   "metadata": {},
   "outputs": [],
   "source": [
    "# Model Training with Hyperparameter Tuning\n",
    "model = RandomForestClassifier(random_state=42)\n",
    "param_grid = {\n",
    "    'n_estimators': [100, 200],\n",
    "    'max_depth': [None, 10, 20]\n",
    "}"
   ]
  },
  {
   "cell_type": "code",
   "execution_count": 9,
   "metadata": {},
   "outputs": [
    {
     "name": "stdout",
     "output_type": "stream",
     "text": [
      "Best parameters: {'max_depth': 20, 'n_estimators': 200}\n"
     ]
    }
   ],
   "source": [
    "grid_search = GridSearchCV(model, param_grid, cv=5)\n",
    "grid_search.fit(X_train, y_train)\n",
    "print(f\"Best parameters: {grid_search.best_params_}\")"
   ]
  },
  {
   "cell_type": "code",
   "execution_count": 10,
   "metadata": {},
   "outputs": [],
   "source": [
    "# Predicting 'NObeyesdad' for the test dataset\n",
    "test_predictions = grid_search.predict(test_data_encoded)"
   ]
  },
  {
   "cell_type": "code",
   "execution_count": 11,
   "metadata": {},
   "outputs": [
    {
     "name": "stdout",
     "output_type": "stream",
     "text": [
      "['Obesity_Type_II' 'Overweight_Level_I' 'Obesity_Type_III' ...\n",
      " 'Insufficient_Weight' 'Normal_Weight' 'Obesity_Type_II']\n"
     ]
    }
   ],
   "source": [
    "print(test_predictions)"
   ]
  },
  {
   "cell_type": "code",
   "execution_count": null,
   "metadata": {},
   "outputs": [],
   "source": [
    "# Saving the submission data\n",
    "submission_data = pd.DataFrame({'id': test_data['id'], 'NObeyesdad': test_predictions})\n",
    "submission_file_path = 'submission2.csv'\n",
    "submission_data.to_csv(submission_file_path, index=False)"
   ]
  }
 ],
 "metadata": {
  "kernelspec": {
   "display_name": "myenv",
   "language": "python",
   "name": "python3"
  },
  "language_info": {
   "codemirror_mode": {
    "name": "ipython",
    "version": 3
   },
   "file_extension": ".py",
   "mimetype": "text/x-python",
   "name": "python",
   "nbconvert_exporter": "python",
   "pygments_lexer": "ipython3",
   "version": "3.9.18"
  }
 },
 "nbformat": 4,
 "nbformat_minor": 2
}
